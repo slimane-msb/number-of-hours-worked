{
 "cells": [
  {
   "cell_type": "code",
   "execution_count": 1,
   "metadata": {},
   "outputs": [
    {
     "name": "stdout",
     "output_type": "stream",
     "text": [
      "Int64Index([1, 2, 3, 4, 10, 11, 12], dtype='int64', name='date')\n",
      "[96.63333333 74.05       81.88333333 59.56666667 17.91666667 84.96666667\n",
      " 77.83333333]\n"
     ]
    },
    {
     "data": {
      "image/png": "[encoded data removed]",
      "text/plain": [
       "<Figure size 432x288 with 1 Axes>"
      ]
     },
     "metadata": {
      "needs_background": "light"
     },
     "output_type": "display_data"
    },
    {
     "data": {
      "text/plain": [
       "date\n",
       "1     96.633333\n",
       "2     74.050000\n",
       "3     81.883333\n",
       "4     59.566667\n",
       "10    17.916667\n",
       "11    84.966667\n",
       "12    77.833333\n",
       "Name: durationMinute, dtype: float64"
      ]
     },
     "execution_count": 1,
     "metadata": {},
     "output_type": "execute_result"
    }
   ],
   "source": [
    "import pandas as pd\n",
    "from datetime import datetime\n",
    "import matplotlib.pyplot as plt\n",
    "\n",
    "df = pd.read_csv(\"20222723112716.csv\", encoding = \"ISO-8859-1\")\n",
    "\n",
    "df['date'] = pd.to_datetime(df['date'],format='%Y-%m-%d')\n",
    "df['duration'] = pd.to_datetime(df['duration'],format='%H:%M:%S')\n",
    "\n",
    "df['durationMinute'] = df['duration']\n",
    "df['durationMinute'] = (pd.DatetimeIndex(df['duration']).hour*60+pd.DatetimeIndex(df['duration']).minute)/60\n",
    "\n",
    "dfm = df.groupby(df.date.dt.month)['durationMinute'].sum()\n",
    "dfm\n",
    "print(dfm.index)\n",
    "print(dfm.values)\n",
    "plt.bar(x=dfm.index,height=dfm.values)\n",
    "plt.title('number of hours worked by month')\n",
    "plt.xlabel('months')\n",
    "plt.ylabel('number of hours')\n",
    "\n",
    "plt.show()\n",
    "dfm\n"
   ]
  },
  {
   "cell_type": "code",
   "execution_count": 52,
   "metadata": {},
   "outputs": [
    {
     "name": "stdout",
     "output_type": "stream",
     "text": [
      "8\n",
      "7\n",
      "6\n",
      "5\n",
      "4\n",
      "3\n",
      "2\n"
     ]
    }
   ],
   "source": []
  }
 ],
 "metadata": {
  "interpreter": {
   "hash": "b15d9e97b2004737c839f085cbf698d4e9f14d929e1d712d71d27108a2f82433"
  },
  "kernelspec": {
   "display_name": "Python 3.9.6 64-bit",
   "language": "python",
   "name": "python3"
  },
  "language_info": {
   "codemirror_mode": {
    "name": "ipython",
    "version": 3
   },
   "file_extension": ".py",
   "mimetype": "text/x-python",
   "name": "python",
   "nbconvert_exporter": "python",
   "pygments_lexer": "ipython3",
   "version": "3.9.6"
  },
  "orig_nbformat": 4
 },
 "nbformat": 4,
 "nbformat_minor": 2
}
